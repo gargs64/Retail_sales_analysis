{
 "cells": [
  {
   "cell_type": "code",
   "execution_count": 1,
   "id": "db426a43",
   "metadata": {},
   "outputs": [],
   "source": [
    "# Step 1: Import Necessary Libraries\n",
    "from pyspark.sql import SparkSession\n",
    "from pyspark.sql.functions import col, sum, avg, count, desc, percentile_approx\n",
    "import matplotlib.pyplot as plt\n",
    "import seaborn as sns"
   ]
  },
  {
   "cell_type": "code",
   "execution_count": 2,
   "id": "1fb3083b",
   "metadata": {},
   "outputs": [],
   "source": [
    "# Step 2: Initialize Spark Session\n",
    "spark = SparkSession.builder.appName(\"RetailSalesAnalysis\").getOrCreate()"
   ]
  },
  {
   "cell_type": "code",
   "execution_count": 4,
   "id": "5bf1e9da",
   "metadata": {},
   "outputs": [],
   "source": [
    "# Step 3: Load Dataset\n",
    "df = spark.read.option(\"header\", True).csv(\"retail_sales_dataset.csv\")"
   ]
  },
  {
   "cell_type": "code",
   "execution_count": 5,
   "id": "ff5147d8",
   "metadata": {},
   "outputs": [
    {
     "name": "stdout",
     "output_type": "stream",
     "text": [
      "root\n",
      " |-- Transaction ID: string (nullable = true)\n",
      " |-- Date: string (nullable = true)\n",
      " |-- Customer ID: string (nullable = true)\n",
      " |-- Gender: string (nullable = true)\n",
      " |-- Age: string (nullable = true)\n",
      " |-- Product Category: string (nullable = true)\n",
      " |-- Quantity: string (nullable = true)\n",
      " |-- Price per Unit: string (nullable = true)\n",
      " |-- Total Amount: string (nullable = true)\n",
      "\n",
      "+--------------+----------+-----------+------+---+----------------+--------+--------------+------------+\n",
      "|Transaction ID|      Date|Customer ID|Gender|Age|Product Category|Quantity|Price per Unit|Total Amount|\n",
      "+--------------+----------+-----------+------+---+----------------+--------+--------------+------------+\n",
      "|             1|2023-11-24|    CUST001|  Male| 34|          Beauty|       3|            50|         150|\n",
      "|             2|2023-02-27|    CUST002|Female| 26|        Clothing|       2|           500|        1000|\n",
      "|             3|2023-01-13|    CUST003|  Male| 50|     Electronics|       1|            30|          30|\n",
      "|             4|2023-05-21|    CUST004|  Male| 37|        Clothing|       1|           500|         500|\n",
      "|             5|2023-05-06|    CUST005|  Male| 30|          Beauty|       2|            50|         100|\n",
      "+--------------+----------+-----------+------+---+----------------+--------+--------------+------------+\n",
      "only showing top 5 rows\n",
      "\n"
     ]
    }
   ],
   "source": [
    "# Step 4: Inspect Data\n",
    "df.printSchema()\n",
    "df.show(5)"
   ]
  },
  {
   "cell_type": "code",
   "execution_count": 6,
   "id": "ebabcaf6",
   "metadata": {},
   "outputs": [],
   "source": [
    "# Step 5: Clean Data\n",
    "df = df.dropna().dropDuplicates()\n",
    "\n",
    "# Convert numerical columns to proper types\n",
    "df = df.withColumn(\"Age\", col(\"Age\").cast(\"int\")) \\\n",
    "       .withColumn(\"Quantity\", col(\"Quantity\").cast(\"int\")) \\\n",
    "       .withColumn(\"Price per Unit\", col(\"Price per Unit\").cast(\"double\")) \\\n",
    "       .withColumn(\"Total Amount\", col(\"Total Amount\").cast(\"double\"))"
   ]
  },
  {
   "cell_type": "code",
   "execution_count": 7,
   "id": "2dde07b3",
   "metadata": {},
   "outputs": [],
   "source": [
    "# Step 6: Top-Selling Products\n",
    "top_products = df.groupBy(\"Product Category\").agg(\n",
    "    sum(\"Total Amount\").alias(\"Total Sales\"),\n",
    "    sum(\"Quantity\").alias(\"Total Quantity Sold\")\n",
    ").orderBy(desc(\"Total Sales\"))"
   ]
  },
  {
   "cell_type": "code",
   "execution_count": 9,
   "id": "8e817808",
   "metadata": {},
   "outputs": [],
   "source": [
    "# Step 7: Customer Segmentation\n",
    "\n",
    "from pyspark.sql.functions import when\n",
    "# Categorizing customers based on spending behavior\n",
    "customer_segments = df.groupBy(\"Customer ID\", \"Age\").agg(sum(\"Total Amount\").alias(\"Total Spent\"))\n",
    "\n",
    "# Define spending thresholds using percentiles\n",
    "high_value_threshold = customer_segments.approxQuantile(\"Total Spent\", [0.75], 0.01)[0]  # 75th percentile\n",
    "mid_value_threshold = customer_segments.approxQuantile(\"Total Spent\", [0.50], 0.01)[0]  # 50th percentile\n",
    "\n",
    "customer_segments = customer_segments.withColumn(\n",
    "    \"Segment\",\n",
    "    when(col(\"Total Spent\") >= high_value_threshold, \"High Value\")\n",
    "    .when(col(\"Total Spent\") >= mid_value_threshold, \"Mid Value\")\n",
    "    .otherwise(\"Low Value\")\n",
    ")\n"
   ]
  },
  {
   "cell_type": "code",
   "execution_count": 10,
   "id": "acf2c2e6",
   "metadata": {},
   "outputs": [
    {
     "data": {
      "image/png": "[encoded data removed]",
      "text/plain": [
       "<Figure size 1000x500 with 1 Axes>"
      ]
     },
     "metadata": {},
     "output_type": "display_data"
    }
   ],
   "source": [
    "# Step 8: Visualization - Top Selling Products\n",
    "pandas_products = top_products.toPandas()\n",
    "plt.figure(figsize=(10,5))\n",
    "sns.barplot(x=\"Product Category\", y=\"Total Sales\", data=pandas_products)\n",
    "plt.xticks(rotation=90)\n",
    "plt.title(\"Top-Selling Products by Revenue\")\n",
    "plt.xlabel(\"Product Category\")\n",
    "plt.ylabel(\"Total Sales\")\n",
    "plt.show()"
   ]
  },
  {
   "cell_type": "code",
   "execution_count": null,
   "id": "cbe67855",
   "metadata": {},
   "outputs": [],
   "source": [
    "# Step 9: Save Processed Data\n",
    "top_products.write.csv(\"output/top_products.csv\", header=True)\n",
    "customer_segments.write.csv(\"output/customer_segments.csv\", header=True)"
   ]
  },
  {
   "cell_type": "code",
   "execution_count": 12,
   "id": "660f4f43",
   "metadata": {},
   "outputs": [],
   "source": [
    "# Step 10: Optimization\n",
    "df.cache()\n",
    "spark.conf.set(\"spark.sql.shuffle.partitions\", 50)"
   ]
  },
  {
   "cell_type": "code",
   "execution_count": 13,
   "id": "7e14e8fa",
   "metadata": {},
   "outputs": [],
   "source": [
    "# Stop Spark Session\n",
    "spark.stop()"
   ]
  }
 ],
 "metadata": {
  "kernelspec": {
   "display_name": "Python 3",
   "language": "python",
   "name": "python3"
  },
  "language_info": {
   "codemirror_mode": {
    "name": "ipython",
    "version": 3
   },
   "file_extension": ".py",
   "mimetype": "text/x-python",
   "name": "python",
   "nbconvert_exporter": "python",
   "pygments_lexer": "ipython3",
   "version": "3.11.0"
  }
 },
 "nbformat": 4,
 "nbformat_minor": 5
}
